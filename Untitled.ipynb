{
 "cells": [
  {
   "cell_type": "code",
   "execution_count": 12,
   "metadata": {},
   "outputs": [],
   "source": [
    "import numpy as np\n",
    "import sys\n",
    "import re"
   ]
  },
  {
   "cell_type": "code",
   "execution_count": 155,
   "metadata": {},
   "outputs": [],
   "source": [
    "training_loss = []\n",
    "for line in open('log2.txt', 'r'):\n",
    "    match = re.search('average_loss = (\\d+\\.\\d+)', line)\n",
    "    if match:\n",
    "        training_loss.append(float(match.group(1)))\n"
   ]
  },
  {
   "cell_type": "code",
   "execution_count": 156,
   "metadata": {},
   "outputs": [
    {
     "data": {
      "image/png": "[encoded data removed]",
      "text/plain": [
       "<matplotlib.figure.Figure at 0x7f1674f0f390>"
      ]
     },
     "metadata": {},
     "output_type": "display_data"
    }
   ],
   "source": [
    "import matplotlib.pyplot as plt\n",
    "plt.plot(training_loss)\n",
    "plt.xlabel('epoch')\n",
    "plt.ylabel('training loss discriminator')\n",
    "plt.show()"
   ]
  },
  {
   "cell_type": "code",
   "execution_count": 28,
   "metadata": {},
   "outputs": [
    {
     "data": {
      "text/plain": [
       "7375"
      ]
     },
     "execution_count": 28,
     "metadata": {},
     "output_type": "execute_result"
    }
   ],
   "source": [
    "import pandas as pd\n",
    "df = pd.DataFrame.from_csv('./elonmusk.csv', encoding = 'ISO-8859-1')\n",
    "df2 = pd.DataFrame.from_csv('./donaldtrump.csv')\n",
    "len(df2)"
   ]
  },
  {
   "cell_type": "code",
   "execution_count": 118,
   "metadata": {},
   "outputs": [],
   "source": [
    "import helpers\n",
    "from nltk.translate.bleu_score import SmoothingFunction, corpus_bleu\n",
    "cc = SmoothingFunction()\n",
    "\n",
    "tweets = []\n",
    "\n",
    "SOS_token = 0\n",
    "EOS_token = 1\n",
    "UNK_token = 2\n",
    "index2word = {0: '<SOS>', 1: '<EOS>', 2: '<UNK>'}\n",
    "word2index = {'<UNK>': 2}\n",
    "word2count = {'<UNK>': 0}\n",
    "n_words = 3\n",
    "\n",
    "for s in df2.Tweet_Text:  \n",
    "    s = s.lower()\n",
    "    tokens = helpers.preprocess(s)\n",
    "    \n",
    "    tweet = []\n",
    "    \n",
    "    for word in tokens:\n",
    "        word = re.sub(r'<[^>]+>', '<HTML>', word)\n",
    "        word = re.sub(r'http[s]?://(?:[a-z]|[0-9]|[$-_@.&amp;+]|[!*\\(\\),]|(?:%[0-9a-f][0-9a-f]))+', '<URL>', word)\n",
    "        word = re.sub(r'(?:@[\\w_]+)', '<@-mentions>', word)\n",
    "        if word not in word2index:\n",
    "            if (n_words<5000):\n",
    "                word2count[word] = 1\n",
    "                word2index[word] = n_words\n",
    "                index2word[n_words] = word\n",
    "                n_words += 1\n",
    "            else:\n",
    "                word = '<UNK>'\n",
    "                word2count[word] += 1\n",
    "        else:\n",
    "            word2count[word] += 1\n",
    "            \n",
    "        tweet.append(word)\n",
    "        \n",
    "    tweets.append(tweet)"
   ]
  },
  {
   "cell_type": "code",
   "execution_count": 143,
   "metadata": {},
   "outputs": [],
   "source": [
    "mle_tweets = []\n",
    "\n",
    "for line in open('MLE_samples', 'r'):\n",
    "    s = line.lower()\n",
    "    tokens = helpers.preprocess(s)\n",
    "    \n",
    "    tweet = []\n",
    "    \n",
    "    for word in tokens:          \n",
    "        tweet.append(word)\n",
    "        \n",
    "    mle_tweets.append(tweet)"
   ]
  },
  {
   "cell_type": "code",
   "execution_count": 144,
   "metadata": {
    "collapsed": true
   },
   "outputs": [],
   "source": [
    "gan_tweets = []\n",
    "\n",
    "for line in open('GAN_samples', 'r'):\n",
    "    s = line.lower()\n",
    "    tokens = helpers.preprocess(s)\n",
    "    \n",
    "    tweet = []\n",
    "    \n",
    "    for word in tokens:\n",
    "        tweet.append(word)\n",
    "        \n",
    "    gan_tweets.append(tweet)"
   ]
  },
  {
   "cell_type": "code",
   "execution_count": 151,
   "metadata": {},
   "outputs": [],
   "source": [
    "mle_scores = []\n",
    "for t in mle_tweets:\n",
    "    mle_scores.append(corpus_bleu([tweets], [t], weights=(0.25, 0.25, 0.25, 0.25), smoothing_function=cc.method4))"
   ]
  },
  {
   "cell_type": "code",
   "execution_count": 152,
   "metadata": {},
   "outputs": [],
   "source": [
    "gan_scores = []\n",
    "for t in gan_tweets:\n",
    "    gan_scores.append(corpus_bleu([tweets], [t], weights=(0.25, 0.25, 0.25, 0.25), smoothing_function=cc.method4))"
   ]
  },
  {
   "cell_type": "code",
   "execution_count": 153,
   "metadata": {},
   "outputs": [
    {
     "data": {
      "text/plain": [
       "0.38195078245209613"
      ]
     },
     "execution_count": 153,
     "metadata": {},
     "output_type": "execute_result"
    }
   ],
   "source": [
    "np.mean(mle_scores)"
   ]
  },
  {
   "cell_type": "code",
   "execution_count": 154,
   "metadata": {},
   "outputs": [
    {
     "data": {
      "text/plain": [
       "0.40191957023556596"
      ]
     },
     "execution_count": 154,
     "metadata": {},
     "output_type": "execute_result"
    }
   ],
   "source": [
    "np.mean(gan_scores)"
   ]
  },
  {
   "cell_type": "code",
   "execution_count": null,
   "metadata": {
    "collapsed": true
   },
   "outputs": [],
   "source": []
  }
 ],
 "metadata": {
  "kernelspec": {
   "display_name": "Python 3",
   "language": "python",
   "name": "python3"
  },
  "language_info": {
   "codemirror_mode": {
    "name": "ipython",
    "version": 3
   },
   "file_extension": ".py",
   "mimetype": "text/x-python",
   "name": "python",
   "nbconvert_exporter": "python",
   "pygments_lexer": "ipython3",
   "version": "3.6.2"
  }
 },
 "nbformat": 4,
 "nbformat_minor": 2
}
